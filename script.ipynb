{
 "cells": [
  {
   "cell_type": "code",
   "execution_count": 77,
   "source": [
    "# Table of acids\n",
    "seq_table = [\n",
    "             [\"TTT\", \"TTC\"], [\"TTA\", \"TTG\", \"CTT\", \"CTC\", \"CTA\", \"CTG\"], [\"ATT\", \"ATC\", \"ATA\"], [\"ATG\"], [\"GTT\", \"GTC\", \"GTA\", \"GTG\"],\n",
    "             [\"TCT\", \"TCC\", \"TCA\", \"TCG\"], [\"CCT\", \"CCC\", \"CCA\", \"CCG\"], [\"ACT\", \"ACC\", \"ACA\", \"ACG\"], [\"GCT\", \"GCC\", \"GCA\", \"GCG\"],\n",
    "             [\"TAT\", \"TAC\"], [\"TAA\", \"TAG\"], [\"CAT\", \"CAC\"], [\"CAA\", \"CAG\"], [\"AAT\", \"AAC\"], [\"AAA\", \"AAG\"], [\"GAT\", \"GAC\"], [\"GAA\", \"GAG\"],\n",
    "             [\"TGT\", \"TGC\"], [\"TGA\"], [\"TGG\"], [\"CGT\", \"CGC\", \"CGA\", \"CGG\", \"AGA\", \"AGG\"], [\"AGT\", \"AGC\"], [\"GGT\", \"GGC\", \"GGA\", \"GGG\"]\n",
    "             ]\n",
    "             "
   ],
   "outputs": [],
   "metadata": {}
  },
  {
   "cell_type": "code",
   "execution_count": 65,
   "source": [
    "with open(\"source/DNA_sam\", \"r\") as DNA_fn:\n",
    "    DNA_sam = DNA_fn.read()\n",
    "\n",
    "with open(\"source/DNA_res_sam\", \"r\") as DNA_res_sam_fn:\n",
    "    DNA_resseq = DNA_res_sam_fn.read()"
   ],
   "outputs": [],
   "metadata": {}
  },
  {
   "cell_type": "code",
   "execution_count": 73,
   "source": [
    "DNA_resseq = DNA_resseq.replace('\\n', '')\n",
    "\n",
    "DNA_resseq_lst = DNA_resseq.split(';')\n",
    "\n",
    "DNA_resseq_lst.remove('')\n",
    "\n",
    "DNA_resseq_lst"
   ],
   "outputs": [
    {
     "output_type": "execute_result",
     "data": {
      "text/plain": [
       "['GAATTC', 'TCTAGA', 'ACTAGT', 'CTGCAG', 'GCGGCCGC', 'GCTCTTC', 'GGTCTC']"
      ]
     },
     "metadata": {},
     "execution_count": 73
    }
   ],
   "metadata": {}
  },
  {
   "cell_type": "code",
   "execution_count": 76,
   "source": [
    "lst = []\n",
    "i = 0\n",
    "\n",
    "for i_resseq, resseq in enumerate(DNA_resseq_lst):\n",
    "    while True:\n",
    "        if i == 0:\n",
    "            i = DNA_sam.find(resseq, 0)   \n",
    "        else:\n",
    "            i = DNA_sam.find(resseq, i + 1)\n",
    "\n",
    "        if i == -1:\n",
    "            break\n",
    "        \n",
    "        lst.append((i, i_resseq))\n",
    "\n",
    "        if i == 0:\n",
    "            i = 1\n",
    "    "
   ],
   "outputs": [
    {
     "output_type": "execute_result",
     "data": {
      "text/plain": [
       "[(112, 3), (1270, 3), (1298, 3)]"
      ]
     },
     "metadata": {},
     "execution_count": 76
    }
   ],
   "metadata": {}
  },
  {
   "cell_type": "code",
   "execution_count": 82,
   "source": [
    "for item in seq_table:\n",
    "    if \"CGA\" in item:\n",
    "        print(\"SUCCESS: \", item)\n",
    "        "
   ],
   "outputs": [
    {
     "output_type": "stream",
     "name": "stdout",
     "text": [
      "SUCCESS,  ['CGT', 'CGC', 'CGA', 'CGG', 'AGA', 'AGG']\n"
     ]
    }
   ],
   "metadata": {}
  },
  {
   "cell_type": "code",
   "execution_count": 89,
   "source": [
    "for inx_dna, inx_resseq in lst:\n",
    "    print(DNA_resseq_lst[inx_resseq][:3])\n",
    "    for item in seq_table:\n",
    "        if DNA_resseq_lst[inx_resseq][:3] in item:\n",
    "            temp_lst = item.copy()\n",
    "            temp_lst.remove(DNA_resseq_lst[inx_resseq][:3])\n",
    "            temp_lst[0]\n",
    "\n",
    "\n"
   ],
   "outputs": [
    {
     "output_type": "stream",
     "name": "stdout",
     "text": [
      "CTG\n",
      "TTA\n",
      "CTG\n",
      "TTA\n",
      "CTG\n",
      "TTA\n"
     ]
    }
   ],
   "metadata": {}
  },
  {
   "cell_type": "code",
   "execution_count": 90,
   "source": [
    "a = \"Happy\"\n",
    "a[2] = \"d\"\n",
    "a"
   ],
   "outputs": [
    {
     "output_type": "error",
     "ename": "TypeError",
     "evalue": "'str' object does not support item assignment",
     "traceback": [
      "\u001b[0;31m---------------------------------------------------------------------------\u001b[0m",
      "\u001b[0;31mTypeError\u001b[0m                                 Traceback (most recent call last)",
      "\u001b[0;32m/var/folders/0g/k0tsczj93vq5fwg_pnt31zv40000gn/T/ipykernel_90128/2410415832.py\u001b[0m in \u001b[0;36m<module>\u001b[0;34m\u001b[0m\n\u001b[1;32m      1\u001b[0m \u001b[0ma\u001b[0m \u001b[0;34m=\u001b[0m \u001b[0;34m\"Happy\"\u001b[0m\u001b[0;34m\u001b[0m\u001b[0;34m\u001b[0m\u001b[0m\n\u001b[0;32m----> 2\u001b[0;31m \u001b[0ma\u001b[0m\u001b[0;34m[\u001b[0m\u001b[0;36m2\u001b[0m\u001b[0;34m]\u001b[0m \u001b[0;34m=\u001b[0m \u001b[0;34m\"d\"\u001b[0m\u001b[0;34m\u001b[0m\u001b[0;34m\u001b[0m\u001b[0m\n\u001b[0m\u001b[1;32m      3\u001b[0m \u001b[0ma\u001b[0m\u001b[0;34m\u001b[0m\u001b[0;34m\u001b[0m\u001b[0m\n",
      "\u001b[0;31mTypeError\u001b[0m: 'str' object does not support item assignment"
     ]
    }
   ],
   "metadata": {}
  },
  {
   "cell_type": "markdown",
   "source": [
    "lst"
   ],
   "metadata": {}
  }
 ],
 "metadata": {
  "orig_nbformat": 4,
  "language_info": {
   "name": "python",
   "version": "3.9.7",
   "mimetype": "text/x-python",
   "codemirror_mode": {
    "name": "ipython",
    "version": 3
   },
   "pygments_lexer": "ipython3",
   "nbconvert_exporter": "python",
   "file_extension": ".py"
  },
  "kernelspec": {
   "name": "python3",
   "display_name": "Python 3.9.7 64-bit ('code-on': conda)"
  },
  "interpreter": {
   "hash": "4ed8af3a9e1e2d32cce9907db41e4ee81b6fe1f7c2baa371fbaaba5f61dbc283"
  }
 },
 "nbformat": 4,
 "nbformat_minor": 2
}